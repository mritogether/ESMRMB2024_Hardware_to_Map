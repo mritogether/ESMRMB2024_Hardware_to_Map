{
  "cells": [
    {
      "cell_type": "markdown",
      "metadata": {
        "id": "MIGYtH14DwXD"
      },
      "source": [
        "# ET 2: Reconstruction of Images and Parameter Maps\n",
        "\n",
        "## ESMRMB 2024\n",
        "\n",
        "- October 5th 2024\n",
        "\n",
        "Based off of previous tutorials from other contributors:\n",
        "\n",
        "### MRITogether 2023\n",
        "[MRITogether 2023 Tutorial](https://github.com/mrirecon/bart-workshop/tree/master/mri_together_2023),\n",
        "[Jon Tamir](mailto:jtamir@utexas.edu), University of Texas at Austin\n",
        "\n",
        "### MRITogether 2021\n",
        "[MRITogether 2021 Tutorial](https://github.com/mrirecon/bart-workshop/tree/master/mri_together_2021)."
      ]
    },
    {
      "cell_type": "markdown",
      "metadata": {
        "id": "-qlxDlsU71vb"
      },
      "source": [
        "The purpose of this notebook is to introduce the [BART toolbox](https://mrirecon.github.io/bart), and its use as a tool for reconstruction of low-field parameter maps.\n",
        "\n",
        "We recommend checking other points of reference, primarily available in the following locations:\n",
        "- [BART Workshops](https://github.com/mrirecon/bart-workshop)\n",
        "- [BART Webinars](https://github.com/mrirecon/bart-webinars) (and [webinar recordings](https://www.youtube.com/@bart-toolboxdepartmental7435/playlists)\\)\n"
      ]
    },
    {
      "cell_type": "markdown",
      "metadata": {
        "id": "ik00oSy-JJ18"
      },
      "source": [
        "## Table of Contents\n",
        "- BART Setup and Basics\n",
        "- Data Exploration\n",
        "- Basic Parameter Map\n",
        "  - Pixel-wise fit\n",
        "  - Model-based reconstruction\n",
        "- Retrospective Undersampling Pattern\n",
        "- Subspace Reconstruction\n",
        "- (Bonus) Motion Correction"
      ]
    },
    {
      "cell_type": "markdown",
      "metadata": {
        "id": "hBjVg_bNnHzj"
      },
      "source": [
        "## Installation\n",
        "\n",
        "You can find more information on BART on the [Website](https://mrirecon.github.io/bart/). For this workshop we will be using BART version `v0.9.00-566-g0759d7e`.\n"
      ]
    },
    {
      "cell_type": "markdown",
      "metadata": {
        "id": "e5RxFHCDnKGt"
      },
      "source": [
        "### Local Usage\n",
        "- Install bart from its [github repository](https://github.com/mrirecon/bart)\n",
        "- Set the `BART_TOOLBOX_PATH` to the BART directory and add it to the `PATH`\n",
        "\n",
        "```bash\n",
        "export BART_TOOLBOX_PATH=/path/to/bart  \n",
        "export PATH=$BART_TOOLBOX_PATH:$PATH\n",
        "```\n",
        "\n",
        "Although the simplest way to call the BART CLI tools is from a terminal, there are also wrapper functions that allow the tools to be used from Matlab and Python. These are located under the `$BART_TOOLBOX_PATH/matlab` and `$BART_TOOLBOX_PATH/python` directories."
      ]
    },
    {
      "cell_type": "markdown",
      "metadata": {
        "id": "f09HrbbxDwXJ"
      },
      "source": [
        "### Online Usage\n",
        "We recommend running BART locally when possible. For demonstration purposes, Google Colaboratory can be used to access a Jupyter instance with BART with a browser. In the following we install and configure BART."
      ]
    },
    {
      "cell_type": "markdown",
      "metadata": {
        "id": "leAhIZJ9oWWR"
      },
      "source": [
        "#### BART Installation\n",
        "\n",
        "Here we install BART's dependencies, clone its repository from github, and compile it (2min 30sec).\n",
        "\n",
        "---\n",
        "**💡Hint:💡**\n",
        "\n",
        "- **`%%bash` Cells in Google Colab:**\n",
        "\n",
        "  In Google Colab, `%%bash` cells allow you to run bash commands directly within your notebook.\n",
        "\n",
        "  Simply prefix your cell with `%%bash`, and you can run any shell command, including calls to BART tools, just as you would in a terminal.\n",
        "\n",
        "  If you only have a single command you can also prefix it with `!` for the same effect.\n"
      ]
    },
    {
      "cell_type": "code",
      "execution_count": null,
      "metadata": {
        "id": "KYpxLsEEDwXN"
      },
      "outputs": [],
      "source": [
        "%%bash\n",
        "\n",
        "# Install BART's dependencies\n",
        "apt-get install -y make gcc libfftw3-dev liblapacke-dev libpng-dev libopenblas-dev &> /dev/null\n",
        "\n",
        "# Clone BART (delete previous version)\n",
        "[ -d /content/bart ] && rm -r /content/bart\n",
        "git clone https://github.com/mrirecon/bart/ bart &> /dev/null\n"
      ]
    },
    {
      "cell_type": "code",
      "execution_count": null,
      "metadata": {
        "id": "tDWAtWn0DwXP"
      },
      "outputs": [],
      "source": [
        "%%bash\n",
        "\n",
        "cd bart\n",
        "\n",
        "# Configuration\n",
        "COMPILE_SPECS=\" PARALLEL=1\n",
        "                OPENBLAS=1\n",
        "                BLAS_THREADSAFE=1\"\n",
        "\n",
        "printf \"%s\\n\" $COMPILE_SPECS > Makefiles/Makefile.local\n",
        "\n",
        "# Compile BART\n",
        "make &> /dev/null && echo ok\n"
      ]
    },
    {
      "cell_type": "markdown",
      "metadata": {
        "id": "hb0N6uqDDwXR"
      },
      "source": [
        "#### Setup Environment for BART\n",
        "\n",
        "After downloading and compiling BART, the next step simplifies the handling of BART's command line interface inside an ipython jupyter notebook. We add the BART directory to the PATH variable and include the python wrapper for reading *.cfl files:"
      ]
    },
    {
      "cell_type": "code",
      "execution_count": null,
      "metadata": {
        "id": "sU6XPDEyDwXU"
      },
      "outputs": [],
      "source": [
        "import sys, os\n",
        "os.environ['BART_TOOLBOX_PATH'] = f\"{os.getcwd()}/bart\"\n",
        "os.environ['PATH'] = os.environ['BART_TOOLBOX_PATH'] + \":\" + os.environ['PATH']\n",
        "sys.path.append(os.environ['BART_TOOLBOX_PATH'] + \"/python/\")"
      ]
    },
    {
      "cell_type": "markdown",
      "metadata": {
        "id": "skXvcEL4DwXW"
      },
      "source": [
        "Check BART setup:"
      ]
    },
    {
      "cell_type": "code",
      "execution_count": null,
      "metadata": {
        "id": "SQAZz46ODwXW"
      },
      "outputs": [],
      "source": [
        "%%bash\n",
        "echo \"# BART version: \"\n",
        "bart version"
      ]
    },
    {
      "cell_type": "markdown",
      "metadata": {
        "id": "5Gqo3SJqDwXZ"
      },
      "source": [
        "## BART Fundamentals\n",
        "BART provides a number of tools for MR image reconstruction and multi-dimensional array manipulation. We can get a list of them by running `bart` with no arguments.\n",
        "\n",
        "Note: The ! character indicates that the following cell should be executed in bash vs. the native python kernel. It is not necessary when running BART commands from your terminal.\n",
        "\n"
      ]
    },
    {
      "cell_type": "code",
      "execution_count": null,
      "metadata": {
        "id": "dM-uW8dEDwXZ",
        "scrolled": false
      },
      "outputs": [],
      "source": [
        "# get a list of BART commands by running bart with no arguments:\n",
        "! bart"
      ]
    },
    {
      "cell_type": "markdown",
      "metadata": {
        "id": "_zfuPZNkDwXb"
      },
      "source": [
        "### BART Command Structure\n",
        "\n",
        "All BART commands are structured in the following way:\n",
        "\n",
        "> **`bart`** + **`command`** + **`options`** + **`input / output`**\n",
        "\n",
        "Each BART command consists of a number of optional arguments, followed by input and output files. To get some information about a command, use the -h flag. Optional arguments are indicated by brackets, and files are indicated by `<,>` symbols.\n",
        "\n",
        "For example, the following command demonstrates the full suite of options for generating a numerical phantom in the image or k-space domain:"
      ]
    },
    {
      "cell_type": "code",
      "execution_count": null,
      "metadata": {
        "id": "mdwlVvNMDwXe"
      },
      "outputs": [],
      "source": [
        "! bart phantom -h"
      ]
    },
    {
      "cell_type": "markdown",
      "metadata": {
        "id": "l65K0lkLDwXe"
      },
      "source": [
        "The `phantom` tool includes the option `-k` to create it in k-space, and `-x` to specify the size."
      ]
    },
    {
      "cell_type": "markdown",
      "metadata": {
        "id": "dfVjdySdi4NN"
      },
      "source": [
        "## Python Bindings\n",
        "\n",
        "BART comes equipped with Python bindings that easily integrate with popular scientific computing libraries in Python. In this tutorial we will primarily use the python bindings for plotting.\n",
        "\n",
        "\n"
      ]
    },
    {
      "cell_type": "markdown",
      "metadata": {
        "id": "BFEX6RUTfII8"
      },
      "source": [
        "<details>\n",
        "  <summary>If you are interested you can find a more detailed explanation of the Python bindings by expanding this cell.</summary>\n",
        "\n",
        "If you're running in Colab, the paths should be updated and you should be all set to run the following demos.\n",
        "\n",
        "If you are running locally, you will need to directly import the bart module. To do this, you can add BART's python directory to your `PYTHONPATH` environment variable. Add the following line to your .bashrc to do this:\n",
        "\n",
        "```bash\n",
        "export PYTHONPATH=\"${BART_TOOLBOX_PATH}/python:$PYTHONPATH\"\n",
        "```\n",
        "\n",
        "Where `BART_TOOLBOX_PATH` is the location of your BART install.\n",
        "\n",
        "This way, we can import the bart module as well as cfl, our utility file for dealing with BART's data format: a .hdr header file and a .cfl file of complex-float data.\n",
        "\n",
        "If you're already running the demo in Colab, you may have to manually modify the path, which we do here:\n",
        "</details>"
      ]
    },
    {
      "cell_type": "code",
      "execution_count": null,
      "metadata": {
        "id": "uoYsyDbpLA1P"
      },
      "outputs": [],
      "source": [
        "# we can use pip install to install the Python bindings using the package description in the pkg/python subdirectory\n",
        "%%bash\n",
        "pip install bart/pkg/python"
      ]
    },
    {
      "cell_type": "markdown",
      "metadata": {
        "id": "YC_VvfnUj_uU"
      },
      "source": [
        "After having updated your `PYTHONPATH`, the following cells should execute error-free:"
      ]
    },
    {
      "cell_type": "code",
      "execution_count": null,
      "metadata": {
        "id": "1ZoSTZfzl53p"
      },
      "outputs": [],
      "source": [
        "from bart import bart\n",
        "import cfl"
      ]
    },
    {
      "cell_type": "markdown",
      "source": [
        "Now we can run bart commands directly from Python (although we will not use it in this notebook)"
      ],
      "metadata": {
        "id": "WEifY--7UIon"
      }
    },
    {
      "cell_type": "code",
      "source": [
        "A = bart(1, 'ones 2 5 5')\n",
        "A"
      ],
      "metadata": {
        "id": "SfotbVllUHDP"
      },
      "execution_count": null,
      "outputs": []
    },
    {
      "cell_type": "markdown",
      "metadata": {
        "id": "-B54--FpFnPB"
      },
      "source": [
        "### Setup Visualization Helper\n",
        "\n",
        "For this tutorial we will visualize some images. Therefore, we need a helper function and some python libraries.\n"
      ]
    },
    {
      "cell_type": "code",
      "execution_count": null,
      "metadata": {
        "id": "jjk7WRl5FqTh",
        "cellView": "form"
      },
      "outputs": [],
      "source": [
        "#@title Visualization  Python Method\n",
        "# Note:  Viewer doesn't work in private windows with firefox\n",
        "import numpy as np\n",
        "import plotly.graph_objects as go\n",
        "import plotly.io as pio\n",
        "from ipywidgets import widgets, HBox, VBox, Layout, IntText, Dropdown, interactive_output, FloatSlider\n",
        "from IPython.display import display\n",
        "from traitlets import List, Bool\n",
        "\n",
        "# Set Plotly renderer to work with Google Colab\n",
        "pio.renderers.default = \"colab\"\n",
        "\n",
        "# Required to enable Plotly in Google Colab\n",
        "def enable_plotly_in_cell():\n",
        "    import IPython\n",
        "    from plotly.offline import init_notebook_mode\n",
        "    display(IPython.core.display.HTML('''<script src=\"/static/components/requirejs/require.js\"></script>'''))\n",
        "    init_notebook_mode(connected=False)\n",
        "\n",
        "enable_plotly_in_cell()\n",
        "\n",
        "class DimensionSelector(HBox):\n",
        "    value = List(Bool()).tag(sync=True)\n",
        "\n",
        "    def __init__(self, n_dims):\n",
        "        self.checkboxes = [widgets.Checkbox(value=i < 2, description=f'Dim {i}') for i in range(n_dims)]\n",
        "        super().__init__(self.checkboxes)\n",
        "        for cb in self.checkboxes:\n",
        "            cb.observe(self.on_change, 'value')\n",
        "        self.value = [cb.value for cb in self.checkboxes]\n",
        "\n",
        "    def on_change(self, change):\n",
        "        selected = [cb for cb in self.checkboxes if cb.value]\n",
        "        if len(selected) > 2:\n",
        "            selected[0].value = False\n",
        "        self.value = [cb.value for cb in self.checkboxes]\n",
        "\n",
        "def interactive_bart_plot(data, cmap='Greys_r', cbar_label='', mag=True, fsize=6):\n",
        "    if isinstance(data, str):\n",
        "        data = cfl.readcfl(data)\n",
        "    else:\n",
        "        data = np.array(data)\n",
        "    if mag:\n",
        "        data = np.abs(data)\n",
        "\n",
        "    # Initialize the plot\n",
        "    fig = go.Figure()\n",
        "\n",
        "    # Create slice widgets\n",
        "    def create_slice_widget(i):\n",
        "        widget = IntText(value=0, description=f'Dim {i}:', layout=Layout(width='200px'))\n",
        "\n",
        "        def on_value_change(change):\n",
        "            if change['new'] < 0:\n",
        "                widget.value = 0\n",
        "            elif change['new'] >= data.shape[i]:\n",
        "                widget.value = data.shape[i] - 1\n",
        "            update_plot(dim_selector.value, interpolation_widget.value, vmin_widget.value, vmax_widget.value, slice_update=True, **slice_widgets_values())\n",
        "\n",
        "        widget.observe(on_value_change, names='value')\n",
        "        return widget\n",
        "\n",
        "    slice_widgets = {f'slice_dim{i}': create_slice_widget(i) for i in range(data.ndim)}\n",
        "\n",
        "    def slice_widgets_values():\n",
        "        return {f'slice_dim{i}': widget.value for i, widget in enumerate(slice_widgets.values())}\n",
        "\n",
        "    def update_plot(plot_dims, interpolation, vmin, vmax, slice_update=False, **slice_values):\n",
        "        selected_dims = [i for i, sel in enumerate(plot_dims) if sel]\n",
        "        if len(selected_dims) != 2:\n",
        "            fig.data = []  # Clear current data\n",
        "            fig.add_annotation(\n",
        "                text='Please select exactly two dimensions for plotting',\n",
        "                xref='paper', yref='paper',\n",
        "                showarrow=False,\n",
        "                font=dict(size=20)\n",
        "            )\n",
        "            fig.update_layout(\n",
        "                xaxis=dict(visible=False),\n",
        "                yaxis=dict(visible=False),\n",
        "                title=None\n",
        "            )\n",
        "        else:\n",
        "            # Create a slice object for indexing\n",
        "            index = [slice(None)] * data.ndim\n",
        "            for i in range(data.ndim):\n",
        "                if i not in selected_dims:\n",
        "                    index[i] = slice_values[f'slice_dim{i}']\n",
        "\n",
        "            # Extract the 2D slice to plot\n",
        "            plot_data = data[tuple(index)].T  # Transpose to match Plotly's default orientation\n",
        "\n",
        "            # Get the min and max of the current slice data, ignoring NaNs\n",
        "            current_min = np.nanmin(plot_data)\n",
        "            current_max = np.nanmax(plot_data)\n",
        "\n",
        "            # Scale vmin and vmax to the min and max values of the current slice\n",
        "            abs_vmin = current_min + vmin * (current_max - current_min)\n",
        "            abs_vmax = current_min + vmax * (current_max - current_min)\n",
        "\n",
        "            if fig.data:\n",
        "                # Update existing heatmap trace\n",
        "                fig.data[0].z = plot_data\n",
        "                fig.data[0].zmin = abs_vmin\n",
        "                fig.data[0].zmax = abs_vmax\n",
        "                fig.data[0].colorscale = cmap\n",
        "            else:\n",
        "                # Create the heatmap trace if it doesn't exist\n",
        "                fig.add_trace(go.Heatmap(z=plot_data, colorscale=cmap, zmin=abs_vmin, zmax=abs_vmax))\n",
        "\n",
        "            fig.update_layout(\n",
        "                title=f'Dimensions: {selected_dims}, Interpolation: {interpolation}',\n",
        "                xaxis=dict(visible=False),\n",
        "                yaxis=dict(visible=False),\n",
        "                autosize=False,\n",
        "                width=fsize * 100,\n",
        "                height=fsize * 100\n",
        "            )\n",
        "            fig.update_xaxes(scaleanchor=\"y\")\n",
        "\n",
        "        with output:\n",
        "            output.clear_output()\n",
        "            display(fig)\n",
        "\n",
        "    dim_selector = DimensionSelector(data.ndim)\n",
        "\n",
        "    interpolation_options = ['nearest', 'linear', 'cubic']\n",
        "    interpolation_widget = Dropdown(\n",
        "        options=interpolation_options,\n",
        "        value='nearest',\n",
        "        description='Interpolation:',\n",
        "        layout=Layout(width='200px')\n",
        "    )\n",
        "\n",
        "    vmin_widget = FloatSlider(\n",
        "        value=0.0,\n",
        "        min=0.0,\n",
        "        max=1.0,\n",
        "        step=0.01,\n",
        "        description='Min Window:',\n",
        "        layout=Layout(width='400px')\n",
        "    )\n",
        "\n",
        "    vmax_widget = FloatSlider(\n",
        "        value=1.0,\n",
        "        min=0.0,\n",
        "        max=1.0,\n",
        "        step=0.01,\n",
        "        description='Max Window:',\n",
        "        layout=Layout(width='400px')\n",
        "    )\n",
        "\n",
        "    slice_ui = HBox(list(slice_widgets.values()))\n",
        "    color_range_ui = VBox([vmin_widget, vmax_widget])\n",
        "    ui = VBox([dim_selector, interpolation_widget, slice_ui, color_range_ui])\n",
        "\n",
        "    controls = {'plot_dims': dim_selector, 'interpolation': interpolation_widget, 'vmin': vmin_widget, 'vmax': vmax_widget, **slice_widgets}\n",
        "    out = interactive_output(update_plot, controls)\n",
        "\n",
        "    output = widgets.Output()\n",
        "    display(ui, output)\n",
        "\n",
        "    # Initial plot update to ensure the plot is shown on first run\n",
        "    update_plot(dim_selector.value, interpolation_widget.value, vmin_widget.value, vmax_widget.value, **slice_widgets_values())"
      ]
    },
    {
      "cell_type": "markdown",
      "metadata": {
        "id": "SnC5NmoMQPFb"
      },
      "source": [
        "## File formats and metadata\n",
        "\n",
        "BART data files are (typically) stored in two files:\n",
        "\n",
        "* A header (`.hdr`) file which contains metadata (dimensions, file type, etc.)\n",
        "\n",
        "* A complex float (`.cfl`) file which contains the raw data.\n",
        "\n",
        "The header file can be opened and read as a normal text file, while the raw data is a binary file. The raw data is a multi-dimensional array of single-precision complex floats, stored in col-major order with interleaved real and imaginary components.\n",
        "\n",
        "### Writing to and from `.cfl` files\n",
        "\n",
        "The `cfl` Python library has some helpful tools to save or load BART data into a numpy-compatible format. In the first example, we will create a complex float array in numpy and then load it into BART from the command line. In the second example, we generate an array via the CLI and load it into Python via the cfl library."
      ]
    },
    {
      "cell_type": "code",
      "execution_count": null,
      "metadata": {
        "id": "rxy7EhacxHcf"
      },
      "outputs": [],
      "source": [
        "A = np.array([1 + 1j, 2 + 3j, 3 + 5j])\n",
        "cfl.writecfl('A', A)\n",
        "! ls A.*\n",
        "! bart show A"
      ]
    },
    {
      "cell_type": "markdown",
      "metadata": {
        "id": "hXGJQ_0Sv_JP"
      },
      "source": [
        "Note that when calling BART functions from the command-line, you do not need to include the extension. This is because BART understands to look for both the `.cfl` and `.hdr` files."
      ]
    },
    {
      "cell_type": "code",
      "execution_count": null,
      "metadata": {
        "id": "nqI7NfFYxuhw"
      },
      "outputs": [],
      "source": [
        "! bart ones 2 3 3 B\n",
        "B = cfl.readcfl('B')\n",
        "B"
      ]
    },
    {
      "cell_type": "markdown",
      "source": [],
      "metadata": {
        "id": "VpXJWP9YTthB"
      }
    },
    {
      "cell_type": "markdown",
      "metadata": {
        "id": "WJzGVMeuDwXe"
      },
      "source": [
        "Because the header file is a text file, we can directly print it:"
      ]
    },
    {
      "cell_type": "code",
      "execution_count": null,
      "metadata": {
        "id": "DWONQd_zDwXf"
      },
      "outputs": [],
      "source": [
        "! cat B.hdr"
      ]
    },
    {
      "cell_type": "markdown",
      "metadata": {
        "id": "741w3qC8DwXf"
      },
      "source": [
        "Although not discussed here, BART can write to other file formats that might not have a text header. Thus, it is better to use the show command:"
      ]
    },
    {
      "cell_type": "code",
      "execution_count": null,
      "metadata": {
        "id": "GQFw_AUGDwXh"
      },
      "outputs": [],
      "source": [
        "! bart show -m B"
      ]
    },
    {
      "cell_type": "markdown",
      "metadata": {
        "collapsed": true,
        "id": "jzz1q1nUDwXh"
      },
      "source": [
        "Our dataset is 16-dimensional, but only the first two dimensions are non-singleton.\n",
        "\n",
        "By convention, the dimensions are `[X, Y, Z, C, M, T, F, ...]`,\n",
        "where `(X, Y, Z)` are the spatial matrix dimensions,  \n",
        "`C` and `M` are the coil dimensions and ESPIRiT maps dimensions, respectively,  \n",
        "`T` and `F` are used for echo times and coefficient dimensions,   \n",
        "followed by other higher order dimensions such as flow encoding, etc.\n",
        "\n",
        "When using the Python interface, note that higher-order singleton dimensions will be squeezed and thus might not show up as 16-dimensional."
      ]
    },
    {
      "cell_type": "markdown",
      "source": [
        "## Table of contents\n",
        "\n",
        "- Data Exploration\n",
        "- Basic Parameter Map\n",
        "  - Pixel-wise fit\n",
        "  - Model-based reconstruction\n",
        "- Retrospective Undersampling Pattern\n",
        "- Subspace Reconstruction\n",
        "- (Bonus) Motion Correction"
      ],
      "metadata": {
        "id": "eRKDutDgWg1F"
      }
    },
    {
      "cell_type": "markdown",
      "metadata": {
        "id": "l60rg8vLoODx"
      },
      "source": [
        "## Data Conversion: .mat to BART Format\n",
        "\n",
        "So now that we have some basic BART knowledge, we'll convert our data from .mat files to a BART-compatible format. You can find more information on the Raw Data structure of the scanner [here](https://github.com/josalggui/MaRGE/wiki/Raw-Data-structure).\n",
        "\n",
        "1. Use `scipy` to load data into a Python array\n",
        "2. Use `bart.writecfl` to write data in BART format\n",
        "\n",
        "This process makes our data ready for further processing with BART tools."
      ]
    },
    {
      "cell_type": "code",
      "source": [
        "!wget -q https://raw.githubusercontent.com/mritogether/ESMRMB2024_Hardware_to_Map/refs/heads/main/04_reconstruction_of_images_and_parameter_maps/data/MSE_with_crushers_light.mat"
      ],
      "metadata": {
        "id": "SWHY--U1kdI9"
      },
      "execution_count": null,
      "outputs": []
    },
    {
      "cell_type": "code",
      "execution_count": null,
      "metadata": {
        "id": "f98N-ahDpAqC"
      },
      "outputs": [],
      "source": [
        "import scipy.io as sio\n",
        "\n",
        "rawName = 'MSE_with_crushers_light.mat'\n",
        "mat_data_0=sio.loadmat(rawName)\n",
        "print(mat_data_0.keys())\n",
        "\n",
        "# Format (kSpace): 4d matrix with nEchoes x nSlices x nPhases x nReadouts elements\n",
        "\n",
        "kSpace3D = mat_data_0['kSpace']\n",
        "print(kSpace3D.shape)\n",
        "\n",
        "# nReadout, nPhase1, nPhase2\n",
        "nPoints = (60, 60, 20)\n",
        "\n",
        "echo_train_length = mat_data_0['etl'][0][0] # Should give 20\n",
        "print(f\"Echo train length: {echo_train_length}\")\n",
        "\n",
        "echo_spacing = mat_data_0['echoSpacing'][0][0]\n",
        "print(f\"Echo spacing: {echo_spacing} ms\")\n",
        "\n",
        "\n",
        "cfl.writecfl('kSpace3D', np.transpose(kSpace3D))"
      ]
    },
    {
      "cell_type": "markdown",
      "metadata": {
        "id": "ZT-4WQ57Boso"
      },
      "source": [
        "## Data Exploration\n",
        "\n",
        "Now that we've imported our data, let's examine its current dimensions using the BART `show` command with the `-m` flag."
      ]
    },
    {
      "cell_type": "code",
      "execution_count": null,
      "metadata": {
        "id": "2pJnFZYJCKLU"
      },
      "outputs": [],
      "source": [
        "%%bash\n",
        "bart show -m kSpace3D"
      ]
    },
    {
      "cell_type": "markdown",
      "metadata": {
        "id": "V-UuQWVSsGvG"
      },
      "source": [
        "## Data Reformatting\n",
        "\n",
        "As we  can see, our data doesn't match the expected BART data format. We'll use the BART transpose command to reformat it.\n",
        "\n",
        "### BART Data Format for Cartesian Data\n",
        "\n",
        "For our Cartesian data, BART expects the following dimension order:\n",
        "\n",
        "| Index | Dimension Name | Description |\n",
        "|-------|----------------|-------------|\n",
        "| 0     | READ_DIM       | Readout dimension |\n",
        "| 1     | PHS1_DIM       | First phase-encoding dimension |\n",
        "| 2     | PHS2_DIM       | Second phase-encoding dimension |\n",
        "| 3     | COIL_DIM       | Receiver coil dimension |\n",
        "| 4     | MAPS_DIM       | Maps dimension (e.g., for multiple sets of sensitivity maps) |\n",
        "| 5     | TE_DIM         | Echo time dimension |\n",
        "| 6     | COEFF_DIM      | Coefficient dimension (e.g., for parameter maps) |\n",
        "| ...   | ...            | ... |\n",
        "\n",
        "### Using BART Transpose Command\n",
        "\n",
        "To reformat our data, we'll use the BART transpose command. You can view the help for this command using:"
      ]
    },
    {
      "cell_type": "code",
      "execution_count": null,
      "metadata": {
        "id": "WHaronxNEHuV"
      },
      "outputs": [],
      "source": [
        "%%bash\n",
        "bart transpose -h"
      ]
    },
    {
      "cell_type": "markdown",
      "metadata": {
        "id": "X3TLBg2kTdlU"
      },
      "source": [
        "So let's get started reformatting our k-space data! _Remember: Indexing starts at 0!_\n",
        "\n",
        "- Dimension `3` and `5`"
      ]
    },
    {
      "cell_type": "code",
      "execution_count": null,
      "metadata": {
        "id": "5mtWkeU1FxkC"
      },
      "outputs": [],
      "source": [
        "# Your code here\n",
        "bart transpose ...\n",
        "\n",
        "# The final output should be called kSpace3D_transposed"
      ]
    },
    {
      "cell_type": "markdown",
      "metadata": {
        "id": "mbtj4WqYynqw"
      },
      "source": [
        "**💡Hint:💡**\n",
        "\n",
        "- **Pipes**\n",
        "\n",
        "  Pipes (`|`) in shell commands can be used to pass the output of one command as the input to another, enabling you to chain multiple BART commands efficiently.\n",
        "\n",
        "  Example: `bart <command1> <input_file> - | bart <command2> - <output_file>`\n",
        "\n",
        "  takes the `input_file` to be processed by `command1`. The output of `command1` is then used as input for `comand2`. Our final result is then saved in `output_file`."
      ]
    },
    {
      "cell_type": "markdown",
      "metadata": {
        "id": "ZqovE32tC1G-"
      },
      "source": [
        "### Verifying Data Format\n",
        "\n",
        "After reformatting the data, we can again check the format using the `bart show -m` command."
      ]
    },
    {
      "cell_type": "code",
      "execution_count": null,
      "metadata": {
        "id": "-xnFe7KZ_ac8"
      },
      "outputs": [],
      "source": [
        "%%bash\n",
        "bart show -m kSpace3D_transposed"
      ]
    },
    {
      "cell_type": "markdown",
      "metadata": {
        "id": "tBot8sb2GON3"
      },
      "source": [
        "## First Look at the k-space\n",
        "\n",
        "We'll examine a single slice from our 3D dataset to speed up reconstruction:\n",
        "\n",
        "1. Perform FFT along the partition dimension\n",
        "2. Visualize the resulting k-space data\n",
        "\n",
        "### Using BART FFT Command\n",
        "\n",
        "To apply FFT, we'll use the BART `fft` command. The BART `fft` command requires a bitmask to select dimensions for processing:\n",
        "\n",
        "- Use `bart bitmask` to generate the required bitmask for dimension `2`\n",
        "- Specify dimensions where FFT should be applied\n",
        "- We use the `-i` and `-u` flags"
      ]
    },
    {
      "cell_type": "code",
      "execution_count": null,
      "metadata": {
        "id": "Uu5tTflg6NNJ"
      },
      "outputs": [],
      "source": [
        "! bart bitmask -h"
      ]
    },
    {
      "cell_type": "code",
      "execution_count": null,
      "metadata": {
        "id": "YlSnRCyG6RRt"
      },
      "outputs": [],
      "source": [
        "! bart fft -h"
      ]
    },
    {
      "cell_type": "markdown",
      "metadata": {
        "id": "EnUvXKXT6ZBK"
      },
      "source": [
        "Now it's your turn!\n",
        "\n",
        "---\n",
        "\n",
        "**💡Hint:💡**\n",
        "\n",
        "- **Subshell Syntax**\n",
        "\n",
        "  In shell scripting, the syntax `$(command)` is used to execute a command in a subshell and capture its output.\n",
        "  \n",
        "  For example, `$(bart bitmask ...)` runs the `bart bitmask` command and substitutes its output directly into the command line where it is called.\n",
        "  \n",
        "  This can be useful when generating bitmasks for use with other BART commands or using a combination of BART commands. <!-- Maybe command example-->"
      ]
    },
    {
      "cell_type": "code",
      "execution_count": null,
      "metadata": {
        "id": "CZnkXX7HkFN4"
      },
      "outputs": [],
      "source": [
        "# Your code here\n",
        "%%bash\n",
        "bart fft ...\n",
        "\n",
        "# The final output should be called ksp3D"
      ]
    },
    {
      "cell_type": "markdown",
      "metadata": {
        "id": "HkZt4UyqFM1T"
      },
      "source": [
        "We can now visualize the k-space using the `interactive_bart_plot` Python method included in this notebook. To use it, simply pass the name of our k-space file as a string argument to the method."
      ]
    },
    {
      "cell_type": "code",
      "execution_count": null,
      "metadata": {
        "id": "NlKNxmzeBCtd"
      },
      "outputs": [],
      "source": [
        "enable_plotly_in_cell()\n",
        "interactive_bart_plot(\"ksp3D\")"
      ]
    },
    {
      "cell_type": "markdown",
      "metadata": {
        "id": "0EuZyliJCmAd"
      },
      "source": [
        "## Computing the Image\n",
        "\n",
        "We'll now compute the image using a simple FFT. For this we need to:\n",
        "\n",
        "1. Use `bart bitmask` to calculate the required bitmask for dimension `0` and `1`\n",
        "2. Apply `bart fft` along the dimesions specified by the bitmask\n"
      ]
    },
    {
      "cell_type": "code",
      "execution_count": null,
      "metadata": {
        "id": "z7COC1zJkSr6"
      },
      "outputs": [],
      "source": [
        "# Your code here (input ksp3D)\n",
        "%%bash\n",
        "bart fft ...\n",
        "\n",
        "# The final output should be called img"
      ]
    },
    {
      "cell_type": "markdown",
      "metadata": {
        "id": "hF24zjpSGWha"
      },
      "source": [
        "## Viewing the Computed Images\n",
        "\n",
        "Now that we've computed our images, let's explore them:\n",
        "\n",
        "- Use the interactive viewer to examine different dimensions\n",
        "- Pay special attention to:\n",
        "  - Dimension `5`: Contains our echoes\n",
        "  - Dimension `2`: Allows viewing different slices"
      ]
    },
    {
      "cell_type": "code",
      "execution_count": null,
      "metadata": {
        "id": "JH7MM8eGCwfr"
      },
      "outputs": [],
      "source": [
        "enable_plotly_in_cell()\n",
        "interactive_bart_plot(\"img\")"
      ]
    },
    {
      "cell_type": "markdown",
      "source": [
        "The phantom along the echos."
      ],
      "metadata": {
        "id": "zyObg_BsV4hN"
      }
    },
    {
      "cell_type": "code",
      "source": [
        "! wget -q https://raw.githubusercontent.com/mritogether/ESMRMB2024_Hardware_to_Map/refs/heads/main/04_reconstruction_of_images_and_parameter_maps/notebooks/fig/motion.gif\n",
        "Image(filename='motion.gif', width=500)"
      ],
      "metadata": {
        "id": "Dmcjf6FvVyT7"
      },
      "execution_count": null,
      "outputs": []
    },
    {
      "cell_type": "markdown",
      "metadata": {
        "id": "f44vrt3TDSog"
      },
      "source": [
        "## Extracting a Single Slice\n",
        "\n",
        "To optimize our processing time, we'll focus on a single slice:\n",
        "\n",
        "- We'll extract slice `15` along dimension `2` from our dataset\n",
        "- We'll use the `bart slice` command for this operation\n",
        "\n"
      ]
    },
    {
      "cell_type": "code",
      "execution_count": null,
      "metadata": {
        "id": "_egsNfHxEqP9"
      },
      "outputs": [],
      "source": [
        "%%bash\n",
        "bart slice -h"
      ]
    },
    {
      "cell_type": "markdown",
      "metadata": {
        "id": "KJI4v2MIhRf3"
      },
      "source": [
        "Lets extract the slice from k-space and our image."
      ]
    },
    {
      "cell_type": "code",
      "execution_count": null,
      "metadata": {
        "id": "LzBzX2ZJkZh3"
      },
      "outputs": [],
      "source": [
        "%%bash\n",
        "bart slice 2 15 ksp3D ksp\n",
        "bart slice 2 15 img img_slice"
      ]
    },
    {
      "cell_type": "markdown",
      "metadata": {
        "id": "x1T1UCxTIlC6"
      },
      "source": [
        "## Parameter Fit\n",
        "\n",
        "We've reached the core of our session: fitting our data to obtain parameter maps.\n",
        "\n",
        "### Using BART MOBAFIT\n",
        "\n",
        "For our Multi Echo Spin Echo (MESE) sequence, we'll use the `bart mobafit` tool. So let's take a look at what we actually need to use the command.\n"
      ]
    },
    {
      "cell_type": "code",
      "execution_count": null,
      "metadata": {
        "id": "R321DX5nIwGn"
      },
      "outputs": [],
      "source": [
        "%%bash\n",
        "bart mobafit -h"
      ]
    },
    {
      "cell_type": "markdown",
      "metadata": {
        "id": "MG5Mo_aWI3yr"
      },
      "source": [
        "## Generating Echo Times\n",
        "\n",
        "We need to create a vector of echo times for our parameter fitting.\n",
        "The final vector should contain the encoding of our echos.\n",
        "\n",
        "- `echo time` of `10ms`\n",
        "- `number of echos` are `20`\n",
        "\n",
        "There are two approaches for generating the encoding vector:\n",
        "\n",
        "---\n",
        "\n",
        "1. We can use BART commands to generate the encoding vector:\n",
        "\n",
        "  1. `bart index`: Create initial echo times\n",
        "  2. `bart extract`: Extract relevant values (we don't want the zero value)\n",
        "  3. `bart scale`: Scale echo times to milliseconds\n",
        "  4. `bart transpose`: The echoes need to be in the `5th` dimension due to the convention in BART\n",
        "\n",
        "2. Or we can use the NumPy `linspace` method.\n",
        "\n",
        "  If you prefer, you can generate echo times using NumPy and then convert to BART format. This process uses the `writecfl` method that we used before."
      ]
    },
    {
      "cell_type": "code",
      "execution_count": null,
      "metadata": {
        "id": "4y_Ydf2pkjNn"
      },
      "outputs": [],
      "source": [
        "# Your code here (BART)\n",
        "%%bash\n",
        "bart index ...\n",
        "bart extract ...\n",
        "bart scale ...\n",
        "bart transpose\n",
        "\n",
        "# The output will be called enc"
      ]
    },
    {
      "cell_type": "code",
      "execution_count": null,
      "metadata": {
        "id": "QHRCXKIKrUH4"
      },
      "outputs": [],
      "source": [
        "# Your code here (Python - numpy)\n",
        "enc = np.linspace(...)\n",
        "\n",
        "# The output will be called enc\n",
        "cfl.writecfl(\"enc\", enc)\n",
        "\n",
        "# Don't forget to transpose the output so the echos are in the correct dimension:\n",
        "! bart transpose ..."
      ]
    },
    {
      "cell_type": "markdown",
      "metadata": {
        "id": "mELdCGeOH947"
      },
      "source": [
        "## Obtaining T2 Map with BART MOBAFIT\n",
        "\n",
        "We'll now use the `bart mobafit` command to generate our R2 map.\n",
        "\n",
        "Key components:\n",
        "- Use the `-T` flag for Multi-Echo Spin Echo (MESE) data\n",
        "- Specify 4 iterations with `-i4`\n",
        "- `Input`: echo times vector `enc` and our slice data `img_slice`\n",
        "\n",
        "This command fits our MESE data to the appropriate model, using the echo times we generated earlier, to produce the R2 parameter map."
      ]
    },
    {
      "cell_type": "code",
      "execution_count": null,
      "metadata": {
        "id": "6lwKRjfekr71"
      },
      "outputs": [],
      "source": [
        "### Your code here ###\n",
        "%%bash\n",
        "bart mobafit -h\n",
        "\n",
        "# Output Name: R2_mobafit"
      ]
    },
    {
      "cell_type": "markdown",
      "metadata": {
        "id": "l-x7BGpH3hhB"
      },
      "source": [
        "Our coefficients are saved in dimension `6` so we need to extract the correct slice `1` from the obtained BART file using `bart slice`."
      ]
    },
    {
      "cell_type": "code",
      "execution_count": null,
      "metadata": {
        "id": "TzNmpK_iYEnx"
      },
      "outputs": [],
      "source": [
        "### Your code here ###\n",
        "%%bash\n",
        "bart slice -h\n",
        "\n",
        "# Output Name: R2_mobafit_slice"
      ]
    },
    {
      "cell_type": "markdown",
      "metadata": {
        "id": "_Yxfu8-83j3r"
      },
      "source": [
        "Finally we invert our R2 map to obtain the T2 map using `bart invert`."
      ]
    },
    {
      "cell_type": "code",
      "execution_count": null,
      "metadata": {
        "id": "xK1x8b9uYeWg"
      },
      "outputs": [],
      "source": [
        "### Your code here ###\n",
        "%%bash\n",
        "bart invert -h\n",
        "\n",
        "# Output Name: T2_mobafit"
      ]
    },
    {
      "cell_type": "code",
      "execution_count": null,
      "metadata": {
        "id": "vMoomwKMQxtT"
      },
      "outputs": [],
      "source": [
        "enable_plotly_in_cell()\n",
        "interactive_bart_plot(\"T2_mobafit\", cmap='viridis')"
      ]
    },
    {
      "cell_type": "markdown",
      "metadata": {
        "id": "tfD4ecXtRFU6"
      },
      "source": [
        "## Problems ?\n",
        "What went wrong here? We can see there are some pixels where the fit didn't work.\n",
        "\n",
        "So we will apply a mask to fix this issue. We can generate a mask about a certain threshold using `bart threshold -B lambda` which will give us a binary output where `val>lambda`."
      ]
    },
    {
      "cell_type": "code",
      "execution_count": null,
      "metadata": {
        "id": "taavBEPe-ZcB"
      },
      "outputs": [],
      "source": [
        "%%bash\n",
        "bart threshold -h"
      ]
    },
    {
      "cell_type": "code",
      "execution_count": null,
      "metadata": {
        "id": "YgvRfsoTkzJz"
      },
      "outputs": [],
      "source": [
        "%%bash\n",
        "bart slice 6 0 T2_mobafit - | bart threshold -B 0.01 - mask\n",
        "\n",
        "# Output name: mask"
      ]
    },
    {
      "cell_type": "markdown",
      "metadata": {
        "id": "wnezVWhCR-c3"
      },
      "source": [
        "Now we apply the mask using `bart fmac`.\n",
        "\n",
        "Inputs:\n",
        "\n",
        "  - `T2_mobafit`\n",
        "  - `mask`"
      ]
    },
    {
      "cell_type": "code",
      "execution_count": null,
      "metadata": {
        "id": "_CeH3GEa-nWc"
      },
      "outputs": [],
      "source": [
        "%%bash\n",
        "bart fmac -h"
      ]
    },
    {
      "cell_type": "code",
      "execution_count": null,
      "metadata": {
        "id": "JNlbo_bRk419"
      },
      "outputs": [],
      "source": [
        "# Your code here\n",
        "%%bash\n",
        "bart fmac ...\n",
        "\n",
        "# Output name: T2_mobafit_masked"
      ]
    },
    {
      "cell_type": "markdown",
      "metadata": {
        "id": "hsfhU-gcM5RF"
      },
      "source": [
        "And we plot our T2 map again:"
      ]
    },
    {
      "cell_type": "code",
      "execution_count": null,
      "metadata": {
        "id": "ui3QopBcSKlm"
      },
      "outputs": [],
      "source": [
        "enable_plotly_in_cell()\n",
        "interactive_bart_plot(\"T2_mobafit_masked\", cmap='viridis')"
      ]
    },
    {
      "cell_type": "markdown",
      "metadata": {
        "id": "OOEOWQTHU35W"
      },
      "source": [
        "#### MOBA\n",
        "\n",
        "We can also use `bart moba` to perform a model-based nonlinear inverse reconstruction.\n",
        "\n",
        "For more information please take at look at publication [Model-based nonlinear inverse reconstruction for T2 mapping using highly undersampled spin-echo MRI](https://doi.org/10.1002/jmri.22634)\n",
        "\n",
        " Let`s try this:"
      ]
    },
    {
      "cell_type": "code",
      "execution_count": null,
      "metadata": {
        "id": "13KXKLCVDmqw"
      },
      "outputs": [],
      "source": [
        "%%bash\n",
        "bart moba -h"
      ]
    },
    {
      "cell_type": "markdown",
      "metadata": {
        "id": "XuIISa7t7cIY"
      },
      "source": [
        "Ok so `bart moba` directly uses our k-space data.\n",
        "\n",
        "We use a number of arguments:\n",
        "\n",
        "- `-i` for the number of iterations `20`\n",
        "- `-R` for the reduction factor `3` (iterative redution of regularization)\n",
        "- `-T` for T2 mapping\n",
        "\n",
        "Input:\n",
        "- `ksp`\n",
        "- `enc`\n",
        "\n",
        "Attention: the order of input files is different from `bart mobafit`"
      ]
    },
    {
      "cell_type": "code",
      "execution_count": null,
      "metadata": {
        "id": "yYhjzjWIlCsw"
      },
      "outputs": [],
      "source": [
        "# Your code here (reco takes ~50 seconds)\n",
        "%%bash\n",
        "bart moba ...\n",
        "\n",
        "# Output  name: reco_moba"
      ]
    },
    {
      "cell_type": "markdown",
      "metadata": {
        "id": "ZJZ-CmVVtKES"
      },
      "source": [
        "# Slice extraction and thresholding as before:\n",
        "Use `reco_moba` as output name of the  `bart moba` command so you can use the code snippet bellow for slice extraction, thresholding and invertion."
      ]
    },
    {
      "cell_type": "code",
      "execution_count": null,
      "metadata": {
        "id": "EpNCGqOhtN56"
      },
      "outputs": [],
      "source": [
        "%%bash\n",
        "bart slice 6 1 reco_moba - | bart invert - T2map_moba\n",
        "\n",
        "# threshold\n",
        "bart slice 6 0 reco_moba - | bart threshold -B 0.1 - - | bart fmac T2map_moba - T2map_moba_masked\n",
        "#bart threshold -M 1.0 T2map_moba mask_moba\n",
        "#bart fmac mask_moba T2map_moba T2map_moba_masked"
      ]
    },
    {
      "cell_type": "code",
      "execution_count": null,
      "metadata": {
        "id": "DK01aQzVxE8Q"
      },
      "outputs": [],
      "source": [
        "enable_plotly_in_cell()\n",
        "interactive_bart_plot(\"T2map_moba_masked\", cmap='viridis')"
      ]
    },
    {
      "cell_type": "markdown",
      "metadata": {
        "id": "iwhJz23MzIt2"
      },
      "source": [
        "## Undersampling\n",
        "Let's try to apply an undersampling pattern to our fully sampled k-space data.\n",
        "\n",
        "> **We will leave out every second phase encoding step and shift the pattern along the echos.**\n",
        "\n",
        "We can generate the pattern using BART.\n",
        "Lets take a look at the following commands:\n",
        "\n",
        "- `bart upat`\n",
        "- `bart circshift`\n",
        "- `bart join`\n",
        "- `bart repmat`\n",
        "- `bart reshape`\n",
        "\n",
        "Because this is quite a lot we will just generate the pattern for you to save some time. Feel free to modify some of the parameters at home to try your own undersampling pattterns!"
      ]
    },
    {
      "cell_type": "code",
      "execution_count": null,
      "metadata": {
        "id": "EqoT9a-I24Kp"
      },
      "outputs": [],
      "source": [
        "%%bash\n",
        "# Generates a uniform undersampling pattern with a undersampling factor of 2 in y direction\n",
        "bart upat -Y60 -Z1 -y2 -z1 p0\n",
        "\n",
        "# Create a copy of the first pattern but shift it by one in dimension one\n",
        "bart circshift 1 1 p0 p1\n",
        "\n",
        "# Join the unshifted and shifted undersampling pattern along dimension 5\n",
        "# | repeat the joined matrix ten times along dimension 6\n",
        "# | reshape the repeated matrix to obtain our final undersdampling pattern with varying along the echos\n",
        "bart join 5 p0 p1 - | bart repmat 6 10 - - | bart reshape $(bart bitmask 5 6) 20 1 - pattern\n",
        "bart show -m pattern"
      ]
    },
    {
      "cell_type": "markdown",
      "metadata": {
        "id": "FzMTDNTBiQzL"
      },
      "source": [
        "We can scroll through our echoes to observe how the pattern changes over the echos."
      ]
    },
    {
      "cell_type": "code",
      "execution_count": null,
      "metadata": {
        "id": "cg42wmZE3ARy"
      },
      "outputs": [],
      "source": [
        "enable_plotly_in_cell()\n",
        "interactive_bart_plot(\"pattern\")"
      ]
    },
    {
      "cell_type": "markdown",
      "metadata": {
        "id": "bvx85fVqNFxC"
      },
      "source": [
        "We can now apply the pattern to our k-space data with the `bart fmac` command."
      ]
    },
    {
      "cell_type": "code",
      "execution_count": null,
      "metadata": {
        "id": "ByXF0rRnlOJg"
      },
      "outputs": [],
      "source": [
        "%%bash\n",
        "bart fmac ksp pattern ksp_usp\n",
        "bart show -m ksp_usp\n",
        "\n",
        "# Output name: ksp_usp"
      ]
    },
    {
      "cell_type": "markdown",
      "metadata": {
        "id": "e6_9CzBHidp5"
      },
      "source": [
        "Let`s take a look at our k-space data."
      ]
    },
    {
      "cell_type": "code",
      "execution_count": null,
      "metadata": {
        "id": "GfPvmUZ94_q9"
      },
      "outputs": [],
      "source": [
        "enable_plotly_in_cell()\n",
        "interactive_bart_plot(\"ksp_usp\")"
      ]
    },
    {
      "cell_type": "markdown",
      "metadata": {
        "id": "--XmUMOs5L_k"
      },
      "source": [
        "Now let us reconstruct a picture from the undersampled data using the `bart fft` command along dimension `0` and `1`."
      ]
    },
    {
      "cell_type": "code",
      "execution_count": null,
      "metadata": {
        "id": "djqExaf1lpm8"
      },
      "outputs": [],
      "source": [
        "%%bash\n",
        "bart fft -u -i $(bart bitmask 0 1) ksp_usp img_usp\n",
        "# Output name: img_usp"
      ]
    },
    {
      "cell_type": "code",
      "execution_count": null,
      "metadata": {
        "id": "2dV3wGAh6GQW"
      },
      "outputs": [],
      "source": [
        "enable_plotly_in_cell()\n",
        "interactive_bart_plot(\"img_usp\")"
      ]
    },
    {
      "cell_type": "markdown",
      "metadata": {
        "id": "urXtzrndNM6A"
      },
      "source": [
        "Ok, we can see strong undersampling artefacts. What will this do to our parameter map?\n",
        "To compute the T2 parameter map directly on the undersampled data we will use `bart mobafit`."
      ]
    },
    {
      "cell_type": "code",
      "execution_count": null,
      "metadata": {
        "id": "qdYF7qHblyQx"
      },
      "outputs": [],
      "source": [
        "%%bash\n",
        "bart mobafit -i5 -T enc img_usp reco_mobafit_usp"
      ]
    },
    {
      "cell_type": "code",
      "execution_count": null,
      "metadata": {
        "id": "UqK84NssuEcW"
      },
      "outputs": [],
      "source": [
        "# Parameter extraction, thresholding and inverting\n",
        "%%bash\n",
        "bart slice 6 1 reco_mobafit_usp - | bart invert - T2map_mobafit_usp\n",
        "\n",
        "# threshold\n",
        "#bart threshold -M 1.0 T2map_mobafit_usp mask_mobafit_usp\n",
        "bart slice 6 0 reco_mobafit_usp - | bart threshold -B 0.01 - mask_mobafit_usp\n",
        "bart fmac mask_mobafit_usp T2map_mobafit_usp T2map_mobafit_masked_usp"
      ]
    },
    {
      "cell_type": "code",
      "execution_count": null,
      "metadata": {
        "id": "IGMkwYZ27-2p"
      },
      "outputs": [],
      "source": [
        "enable_plotly_in_cell()\n",
        "interactive_bart_plot(\"T2map_mobafit_usp\", cmap='viridis')"
      ]
    },
    {
      "cell_type": "markdown",
      "metadata": {
        "id": "SbWB6hzh8Pws"
      },
      "source": [
        "## Subspace constrained reconstruction\n",
        "\n",
        "Well that didn't work. Lets try a different approach: Subspace contrained reconstruction. We can use `bart signal` to simulate our signal model for our Multi Echo Spin Echo sequence."
      ]
    },
    {
      "cell_type": "code",
      "execution_count": null,
      "metadata": {
        "id": "2-YPACJF8VSs"
      },
      "outputs": [],
      "source": [
        "!bart signal -h"
      ]
    },
    {
      "cell_type": "markdown",
      "source": [
        "Our signal model (graphic by Nick Scholand)."
      ],
      "metadata": {
        "id": "_CF93kfJbwL1"
      }
    },
    {
      "cell_type": "markdown",
      "source": [
        "![t2_gs.png](data:image/png;base64,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)"
      ],
      "metadata": {
        "id": "NzNM_ATRbiLp"
      }
    },
    {
      "cell_type": "markdown",
      "metadata": {
        "id": "4uYvVVYwjfnt"
      },
      "source": [
        "We can now define the different arguments according to our sequence.\n",
        "- `-S` for a Spin Echo signal\n",
        "- We have a `number  of echos` (`-n`) of `20`\n",
        "- Use reasonable values for minimum and maximum T2 (`-2`) and we will use `1000` measurements.\n",
        "- The `echo time` (`-e`) is `10 milliseconds`"
      ]
    },
    {
      "cell_type": "code",
      "execution_count": null,
      "metadata": {
        "id": "WlLbwsBQnSJN"
      },
      "outputs": [],
      "source": [
        "%%bash\n",
        "N_MEASUREMENTS=20\n",
        "MIN_T2=10e-3\n",
        "MAX_T2=0.5\n",
        "N_T2_POINTS=1000\n",
        "ECHO_TIME=10e-3\n",
        "\n",
        "bart signal -S -n${N_MEASUREMENTS} -2${MIN_T2}:${MAX_T2}:${N_T2_POINTS} -e${ECHO_TIME} signal"
      ]
    },
    {
      "cell_type": "markdown",
      "metadata": {
        "id": "qaDFmZzwuXtT"
      },
      "source": [
        "To have the correct format we need to transpose dimension `2` and `5` of our `bart signal` output and finally use `bart squeeze` on our signal. In the interest of time we'll take care of you for that!"
      ]
    },
    {
      "cell_type": "code",
      "execution_count": null,
      "metadata": {
        "id": "628JUOXIuRsZ"
      },
      "outputs": [],
      "source": [
        "# Transposing and squeezing!\n",
        "%%bash\n",
        "bart transpose 2 5 signal - | bart squeeze - signal"
      ]
    },
    {
      "cell_type": "markdown",
      "metadata": {
        "id": "mTkAwsfzSV98"
      },
      "source": [
        "Now we calculate the SVD of our signal using `bart svd`."
      ]
    },
    {
      "cell_type": "code",
      "execution_count": null,
      "metadata": {
        "id": "z50vfkTpnlco"
      },
      "outputs": [],
      "source": [
        "%%bash\n",
        "bart svd -h"
      ]
    },
    {
      "cell_type": "markdown",
      "metadata": {
        "id": "_2PC59HD69NY"
      },
      "source": [
        "We use the `-e` flag."
      ]
    },
    {
      "cell_type": "code",
      "execution_count": null,
      "metadata": {
        "id": "uCI7jCjNnsX9"
      },
      "outputs": [],
      "source": [
        "# Your code here\n",
        "%%bash\n",
        "bart svd ...\n",
        "\n",
        "# Output names: u s v"
      ]
    },
    {
      "cell_type": "markdown",
      "metadata": {
        "id": "XNB5mbvboA_z"
      },
      "source": [
        "We now extract the first `4` orthonormal columns from `u` using `bart extract` on dimension `1`."
      ]
    },
    {
      "cell_type": "code",
      "execution_count": null,
      "metadata": {
        "id": "rPjYuWZ6oQKI"
      },
      "outputs": [],
      "source": [
        "%%bash\n",
        "# You can play around with different values !\n",
        "N_vec=3\n",
        "\n",
        "bart extract 1 0 $N_vec u basis\n",
        "bart show -m basis\n",
        "\n",
        "# Output name: basis"
      ]
    },
    {
      "cell_type": "markdown",
      "metadata": {
        "id": "fmdoe5SwHnUI"
      },
      "source": [
        "As you might have seen in the dimensions of our computed basis, the coefficients are currently in the 1st and the time is in the 0th dimension.\n",
        "\n",
        "For compatibility with BART we need to move the dimensions to their natural position within the 16 dimensions of a .cfl file.\n",
        "\n",
        "- We use Use `bart transpose` to correct the dimensions:\n",
        "  - `1` and `6` (coefficients in the 6th dimension)\n",
        "  - `0` and `5` (time in the 5th dimension)"
      ]
    },
    {
      "cell_type": "code",
      "execution_count": null,
      "metadata": {
        "id": "O10VXZXaoYzY"
      },
      "outputs": [],
      "source": [
        "# Transposing\n",
        "%%bash\n",
        "bart transpose 1 6 basis - | bart transpose 0 5 - basis\n",
        "bart show -m basis"
      ]
    },
    {
      "cell_type": "markdown",
      "metadata": {
        "id": "haOfAFwDAOxY"
      },
      "source": [
        "Now that we have our basis we need to create our coefficient map. We will do this using the BARTs **P**arallel **I**maging **C**ompressed **S**ensing tool: `pics`.\n",
        "\n",
        "Lets check what `bart pics` actuall needs using the `-h` flag."
      ]
    },
    {
      "cell_type": "code",
      "execution_count": null,
      "metadata": {
        "id": "GTQ2dni-AvBR"
      },
      "outputs": [],
      "source": [
        "%%bash\n",
        "bart pics -h"
      ]
    },
    {
      "cell_type": "markdown",
      "metadata": {
        "id": "ZtBNEF5HA5RK"
      },
      "source": [
        "Ok these are a lot of options but we almost have everything we need. We just need a sensitivity map. Since we only have one coil we can just create a BART file with only ones. We can use `bart ones` for this."
      ]
    },
    {
      "cell_type": "code",
      "execution_count": null,
      "metadata": {
        "id": "oRctbsGvofjl"
      },
      "outputs": [],
      "source": [
        "%%bash\n",
        "bart ones -h"
      ]
    },
    {
      "cell_type": "code",
      "execution_count": null,
      "metadata": {
        "id": "sM9rxJYvoueX"
      },
      "outputs": [],
      "source": [
        "%%bash\n",
        "bart ones 2 60 60 sens"
      ]
    },
    {
      "cell_type": "markdown",
      "metadata": {
        "id": "7otlF9Ziomhc"
      },
      "source": [
        "Now we generate the coefficient map using `bart pics`.\n",
        "\n",
        "- `-i` iterations `8`\n",
        "- `-B` our basis `basis`\n",
        "\n",
        "Input:\n",
        "- `ksp_usp`\n",
        "- `sens`"
      ]
    },
    {
      "cell_type": "code",
      "execution_count": null,
      "metadata": {
        "id": "-8hIO3Vqo1wx"
      },
      "outputs": [],
      "source": [
        "# Your code here\n",
        "%%bash\n",
        "bart pics ...\n",
        "\n",
        "# Output name coeff_map"
      ]
    },
    {
      "cell_type": "code",
      "execution_count": null,
      "metadata": {
        "id": "KWRot3b7Bc4d"
      },
      "outputs": [],
      "source": [
        "enable_plotly_in_cell()\n",
        "interactive_bart_plot(\"coeff_map\")"
      ]
    },
    {
      "cell_type": "markdown",
      "metadata": {
        "id": "SVROWul2BzrL"
      },
      "source": [
        "Ok the coefficient map looks fine - so now let us get back our images by multiplying our coefficients with our basis.\n",
        "\n",
        "We use `bart fmac` for this and the `-s` flag along the `6th` dimension."
      ]
    },
    {
      "cell_type": "code",
      "execution_count": null,
      "metadata": {
        "id": "GAyVnorXpJg5"
      },
      "outputs": [],
      "source": [
        "# Your code here\n",
        "%%bash\n",
        "bart fmac ...\n",
        "\n",
        "# Call your output reco_subspace"
      ]
    },
    {
      "cell_type": "code",
      "execution_count": null,
      "metadata": {
        "id": "k7NFb11nCMpA"
      },
      "outputs": [],
      "source": [
        "enable_plotly_in_cell()\n",
        "interactive_bart_plot(\"reco_subspace\")"
      ]
    },
    {
      "cell_type": "markdown",
      "metadata": {
        "id": "71Az16YyQnW5"
      },
      "source": [
        "We compute our T2 map as before using `bart mobafit`.\n",
        "\n"
      ]
    },
    {
      "cell_type": "code",
      "execution_count": null,
      "metadata": {
        "id": "V5HgMjcLpSnY"
      },
      "outputs": [],
      "source": [
        "# Bart mobafit as before, we do this for you!\n",
        "%%bash\n",
        "bart mobafit --min 0.01 --min-flag $(bart bitmask 1) -i5 -T enc reco_subspace R2map_subspace"
      ]
    },
    {
      "cell_type": "code",
      "execution_count": null,
      "metadata": {
        "id": "r4C2cPD5wc5Q"
      },
      "outputs": [],
      "source": [
        "# Parameter extraction, bart invert and thresholding\n",
        "%%bash\n",
        "bart slice 6 1 R2map_subspace - | bart invert - T2map_subspace\n",
        "\n",
        "# threshold\n",
        "bart slice 6 0 R2map_subspace - | bart threshold -B 0.01 - mask_subspace\n",
        "bart fmac mask_subspace T2map_subspace T2map_subspace_masked\n"
      ]
    },
    {
      "cell_type": "code",
      "execution_count": null,
      "metadata": {
        "id": "eOJcVPW4C7aP"
      },
      "outputs": [],
      "source": [
        "enable_plotly_in_cell()\n",
        "interactive_bart_plot(\"T2map_subspace_masked\", cmap='viridis')"
      ]
    },
    {
      "cell_type": "markdown",
      "metadata": {
        "id": "xYOLTk7GpYlu"
      },
      "source": [
        "This looks better, tough we still have some undersampling artefacts."
      ]
    },
    {
      "cell_type": "markdown",
      "metadata": {
        "id": "83p5Yn09JEz7"
      },
      "source": [
        "### Motion (Bonus)\n",
        "\n",
        "So our reconstruction looks better but still not perfect. Especially on the edges of the phantom we can still see undersampling artefacts. Why is this the case?\n",
        "\n",
        "Lets take a look at the image of our phantom along the first ten echos - for this we created a short movie before the conference so the problem is more obvious:"
      ]
    },
    {
      "cell_type": "code",
      "execution_count": null,
      "metadata": {
        "id": "rQxmYAdXKVQK"
      },
      "outputs": [],
      "source": [
        "! wget -q https://raw.githubusercontent.com/mritogether/ESMRMB2024_Hardware_to_Map/refs/heads/main/04_reconstruction_of_images_and_parameter_maps/notebooks/fig/motion.gif\n",
        "from IPython.display import Image\n",
        "Image(filename='motion.gif', width=500)"
      ]
    },
    {
      "cell_type": "markdown",
      "metadata": {
        "id": "WxOfedrWLNNY"
      },
      "source": [
        "As we can see our phantom is _wobbling_ along the echo dimension and our reconstruction doesn't like that.\n",
        "\n",
        "We can fix this using BART - however this reconstruction takes a little longer, because it's computationally intensive, so we will just show very quickly how it's done.\n",
        "\n",
        "If you want more information please check out the following workshop dedicated to motion correction [ISMRM2024](https://github.com/mrirecon/bart-workshop/tree/master/ismrm_motion_2024) by Moritz Blumenthal."
      ]
    },
    {
      "cell_type": "markdown",
      "metadata": {
        "id": "ZIxpGK0CtLYJ"
      },
      "source": [
        "## Motion Correction\n",
        "\n",
        "For the motion correction we treat our data as non-Cartesian.\n",
        "We use `bart reshape` to format our data for non-Cartesian reconstruction.\n",
        "\n",
        "Then we use `bart traj` to generate our k-space trajectory for Cartesian acquisition."
      ]
    },
    {
      "cell_type": "code",
      "execution_count": null,
      "metadata": {
        "id": "QDZtIc12toLe"
      },
      "outputs": [],
      "source": [
        "%%bash\n",
        "# We treat the data as non cartesian:\n",
        "bart reshape 7 1 60 60 ksp_usp ksp_usp_nc\n",
        "\n",
        "# compute k-space trajectory for Cartesian acquisition\n",
        "bart traj -x60 -y60 traj"
      ]
    },
    {
      "cell_type": "markdown",
      "metadata": {
        "id": "B87gEg6taVsf"
      },
      "source": [
        "Now we extract a reference image using `bart slice`."
      ]
    },
    {
      "cell_type": "code",
      "execution_count": null,
      "metadata": {
        "id": "YwVQIe1saaGQ"
      },
      "outputs": [],
      "source": [
        "%%bash\n",
        "bart slice 5 0 img_slice img_ref"
      ]
    },
    {
      "cell_type": "markdown",
      "metadata": {
        "id": "Sj4schVg6-e8"
      },
      "source": [
        "We compute the affine motion model relative to echo 0 using `bart affinereg`.\n",
        "\n",
        "We will use the following arguments:\n",
        "\n",
        "- `-l` loop\n",
        "- along dimension `5`\n",
        "- `r` file of our images"
      ]
    },
    {
      "cell_type": "code",
      "execution_count": null,
      "metadata": {
        "id": "-2tPUYe_Poid"
      },
      "outputs": [],
      "source": [
        "! bart affinereg -h"
      ]
    },
    {
      "cell_type": "code",
      "execution_count": null,
      "metadata": {
        "id": "NI3AnxGLahkU"
      },
      "outputs": [],
      "source": [
        "%%bash\n",
        "bart -l $(bart bitmask 5) -r img_slice affinereg -A img_ref img_slice mov2d"
      ]
    },
    {
      "cell_type": "markdown",
      "metadata": {
        "id": "QrqxbpeKQ4qM"
      },
      "source": [
        "Now we apply the motion model to the images to confirm the _wiggling_ is gone using  `bart interpolate` with the `-A` flag for using the affine transform for interpolation."
      ]
    },
    {
      "cell_type": "code",
      "execution_count": null,
      "metadata": {
        "id": "mSvzSJMSvwkz"
      },
      "outputs": [],
      "source": [
        "! bart interpolate -h"
      ]
    },
    {
      "cell_type": "code",
      "execution_count": null,
      "metadata": {
        "id": "OcxVzPuIQ_5d"
      },
      "outputs": [],
      "source": [
        "%%bash\n",
        "bart -l $(bart bitmask 5) -r img_slice interpolate -A 7 img_slice mov2d img_cor"
      ]
    },
    {
      "cell_type": "code",
      "execution_count": null,
      "metadata": {
        "id": "HTWLtgf9OzOr"
      },
      "outputs": [],
      "source": [
        "# You can try this at home!\n",
        "# enable_plotly_in_cell()\n",
        "# interactive_bart_plot(\"img_slice\")"
      ]
    },
    {
      "cell_type": "markdown",
      "metadata": {
        "id": "ONYkeMnBLxIi"
      },
      "source": [
        "Ok let's take a look at the corrected images - again we created this gif before the workshop."
      ]
    },
    {
      "cell_type": "code",
      "execution_count": null,
      "metadata": {
        "id": "UWpoWN0DJfDn"
      },
      "outputs": [],
      "source": [
        "! wget -q https://raw.githubusercontent.com/mritogether/ESMRMB2024_Hardware_to_Map/refs/heads/main/04_reconstruction_of_images_and_parameter_maps/notebooks/fig/motion_corr.gif\n",
        "from IPython.display import Image\n",
        "Image(filename='motion_corr.gif', width=500)"
      ]
    },
    {
      "cell_type": "markdown",
      "metadata": {
        "id": "EjYRiDWg7Pg-"
      },
      "source": [
        "The corrected image looks good but in reality we need to apply the correction to k-space.\n",
        "\n",
        "We do this using a script that comes with BART: `affine_kspace.sh`.\n",
        "This script uses `bart fovshift` shift and rotates the trajectory with `bart fmac`."
      ]
    },
    {
      "cell_type": "code",
      "execution_count": null,
      "metadata": {
        "id": "_A8k5PXs8EaN"
      },
      "outputs": [],
      "source": [
        "%%bash\n",
        "./bart/scripts/affine_kspace.sh ksp_usp_nc traj mov2d ksp_usp_nc_cor traj_cor"
      ]
    },
    {
      "cell_type": "markdown",
      "metadata": {
        "id": "QghiQM457Znw"
      },
      "source": [
        "Now we perform the reconstruction on the motion corrected k-space.\n",
        "We again use `bart moba` and pass the corrected k-space and trajectory."
      ]
    },
    {
      "cell_type": "code",
      "execution_count": null,
      "metadata": {
        "id": "LhHvsMhAPPUS"
      },
      "outputs": [],
      "source": [
        "# 3min\n",
        "%%bash\n",
        "bart moba -i20 -R3 -d4 -t traj_cor -T ksp_usp_nc_cor enc reco_moba_usp\n",
        "bart slice 6 1 reco_moba_usp - | bart resize -c 0 60 1 60 - - | bart invert - T2map_moba_usp"
      ]
    },
    {
      "cell_type": "code",
      "execution_count": null,
      "metadata": {
        "id": "gMUg5TQSFx7r"
      },
      "outputs": [],
      "source": [
        "# threshold\n",
        "%%bash\n",
        "bart slice 6 0 reco_moba_usp - | bart resize -c 0 60 1 60 - - | bart threshold -B 0.1 - mask_moba_usp\n",
        "\n",
        "bart threshold -M 0.5 T2map_moba_usp mask_moba_usp\n",
        "bart fmac mask_moba_usp T2map_moba_usp T2map_moba_masked_usp"
      ]
    },
    {
      "cell_type": "code",
      "execution_count": null,
      "metadata": {
        "id": "_jsZ0gSOPVm3"
      },
      "outputs": [],
      "source": [
        "enable_plotly_in_cell()\n",
        "interactive_bart_plot(\"T2map_moba_masked_usp\", cmap='viridis')"
      ]
    },
    {
      "cell_type": "code",
      "execution_count": null,
      "metadata": {
        "id": "ngXFd4oYU5BT"
      },
      "outputs": [],
      "source": [
        "%%bash\n",
        "# Join to compare fully sampled and moba\n",
        "bart join 1 T2map_moba_masked_usp T2map_moba_masked T2map_moba_compare"
      ]
    },
    {
      "cell_type": "code",
      "execution_count": null,
      "metadata": {
        "id": "5C6PUK8QVA07"
      },
      "outputs": [],
      "source": [
        "enable_plotly_in_cell()\n",
        "interactive_bart_plot(\"T2map_moba_compare\", cmap='viridis')"
      ]
    },
    {
      "cell_type": "markdown",
      "metadata": {
        "id": "y5zfneLSRXn_"
      },
      "source": [
        "Thank you for completing the Workshop on `Reconstruction of Images and Parameter Maps`!"
      ]
    }
  ],
  "metadata": {
    "colab": {
      "collapsed_sections": [
        "e5RxFHCDnKGt"
      ],
      "provenance": []
    },
    "kernelspec": {
      "display_name": "Python 3",
      "language": "python",
      "name": "python3"
    },
    "language_info": {
      "codemirror_mode": {
        "name": "ipython",
        "version": 3
      },
      "file_extension": ".py",
      "mimetype": "text/x-python",
      "name": "python",
      "nbconvert_exporter": "python",
      "pygments_lexer": "ipython3",
      "version": "3.7.10"
    }
  },
  "nbformat": 4,
  "nbformat_minor": 0
}