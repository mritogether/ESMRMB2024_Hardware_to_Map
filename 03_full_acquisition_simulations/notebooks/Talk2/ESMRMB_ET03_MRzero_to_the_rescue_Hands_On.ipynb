{
  "nbformat": 4,
  "nbformat_minor": 0,
  "metadata": {
    "colab": {
      "provenance": [],
      "gpuType": "T4",
      "authorship_tag": "ABX9TyP5vgNxoSBUOwmB2ZFMEbCw",
      "include_colab_link": true
    },
    "kernelspec": {
      "name": "python3",
      "display_name": "Python 3"
    },
    "language_info": {
      "name": "python"
    },
    "accelerator": "GPU"
  },
  "cells": [
    {
      "cell_type": "markdown",
      "metadata": {
        "id": "view-in-github",
        "colab_type": "text"
      },
      "source": [
        "<a href=\"https://colab.research.google.com/github/mritogether/ESMRMB2024_Hardware_to_Map/blob/main/03_full_acquisition_simulations/notebooks/Talk2/ESMRMB_ET03_MRzero_to_the_rescue_Hands_On.ipynb\" target=\"_parent\"><img src=\"https://colab.research.google.com/assets/colab-badge.svg\" alt=\"Open In Colab\"/></a>"
      ]
    },
    {
      "cell_type": "markdown",
      "source": [
        "# **MRzero: Hands-On**\n",
        "\n",
        "In this notebook, MRzero simulation is used to simulate the EPI distortions caused by B0 inhomogeneities. The EPI sequence file is created with pypulseq.\n",
        "\n",
        "The goal of this notebook is to provide the opportunity to test the basic functioning of MRzero. Here:\n",
        "- A EPI sequence file (seq file) is written with pypulseq\n",
        "- MRzero is used to load this seq file as a MRzero seq object\n",
        "- A digital phantom of the brain is loded as a phantom object\n",
        "- With the opportunity to vary the B0 scaling value, the EPI sequence is simulated and the image for the phantom is reconstructed"
      ],
      "metadata": {
        "id": "0_OlNRrt76e0"
      }
    },
    {
      "cell_type": "markdown",
      "source": [
        "**1. Install and import libraries**"
      ],
      "metadata": {
        "id": "gSsaszbo8efr"
      }
    },
    {
      "cell_type": "code",
      "execution_count": 1,
      "metadata": {
        "id": "AIcWO-M172F_"
      },
      "outputs": [],
      "source": [
        "!pip install pypulseq==1.4.2 &> /dev/null\n",
        "!pip install MRzeroCore &> /dev/null\n",
        "!wget https://github.com/MRsources/MRzero-Core/raw/main/documentation/playground_mr0/numerical_brain_cropped.mat &> /dev/null"
      ]
    },
    {
      "cell_type": "code",
      "source": [
        "import numpy as np\n",
        "# newer numpy versions don't contain this, but pypulseq still relies on it\n",
        "np.int = int\n",
        "np.float = float\n",
        "np.complex = complex\n",
        "\n",
        "import MRzeroCore as mr0\n",
        "import pypulseq as pp\n",
        "import torch\n",
        "import matplotlib.pyplot as plt\n",
        "import os\n",
        "from google.colab import output\n",
        "import matplotlib.image as mpimg\n",
        "\n",
        "import ipywidgets as widgets\n",
        "from IPython.display import display\n",
        "\n",
        "plt.rcParams['figure.dpi'] = 100"
      ],
      "metadata": {
        "id": "Hvc-XXL-8nbj"
      },
      "execution_count": 2,
      "outputs": []
    },
    {
      "cell_type": "markdown",
      "source": [
        "**2. Prepare scanner**"
      ],
      "metadata": {
        "id": "q1HaIFl48y1z"
      }
    },
    {
      "cell_type": "code",
      "source": [
        "system = pp.Opts(\n",
        "    max_grad=80,\n",
        "    grad_unit='mT/m',\n",
        "    max_slew=200,\n",
        "    slew_unit='T/m/s',\n",
        "    rf_ringdown_time=30e-6,\n",
        "    rf_dead_time=100e-6,\n",
        "    adc_dead_time=20e-6,\n",
        "    grad_raster_time=10e-6\n",
        ")"
      ],
      "metadata": {
        "id": "P5mNe5AJ85DO"
      },
      "execution_count": 3,
      "outputs": []
    },
    {
      "cell_type": "markdown",
      "source": [
        "**3. Acquisition conditions**"
      ],
      "metadata": {
        "id": "DRtHY1FjN6-H"
      }
    },
    {
      "cell_type": "code",
      "source": [
        "fov, slice_thickness = 200e-3, 8e-3#m\n",
        "Nread, Nphase = 64, 64"
      ],
      "metadata": {
        "id": "TOA2JeVROAAQ"
      },
      "execution_count": 4,
      "outputs": []
    },
    {
      "cell_type": "markdown",
      "source": [
        "**4. Check timing auxiliar function**"
      ],
      "metadata": {
        "id": "t9xA3B6fORwW"
      }
    },
    {
      "cell_type": "code",
      "source": [
        "def aux_check_timing(seq):\n",
        "  (ok,error_report,) = seq.check_timing()  # Check whether the timing of the sequence is correct\n",
        "  if ok:\n",
        "      print(\"Timing check passed successfully\")\n",
        "  else:\n",
        "      print(\"Timing check failed. Error listing follows:\")\n",
        "      [print(e) for e in error_report]"
      ],
      "metadata": {
        "id": "czJ7wF1XwCz8"
      },
      "execution_count": 5,
      "outputs": []
    },
    {
      "cell_type": "markdown",
      "source": [
        "**5. Overall EPI sequence generator and reconstruction**"
      ],
      "metadata": {
        "id": "zbqYkzlwLYQ-"
      }
    },
    {
      "cell_type": "code",
      "source": [
        "def EPI_generator_reconstruction(delay_adc_gradient_OG = 0, blip_duration_factor = 1, B1_factor = 0, B0_factor = 0):\n",
        "\n",
        "  obj_p_copy = phantom.build()\n",
        "\n",
        "  # =====================\n",
        "  #     Change phantom\n",
        "  # =====================\n",
        "  obj_p.B0 = obj_p_copy.B0 + B0_inhomogeneity*B0_factor\n",
        "  obj_p.B1 = obj_p_copy.B1 + B1_inhomogeneity*B1_factor\n",
        "\n",
        "  # =====================\n",
        "  #    Create sequence\n",
        "  # =====================\n",
        "  seq_EPI = pp.Sequence()\n",
        "\n",
        "  # Define rf events\n",
        "  rf1, _, _ = pp.make_sinc_pulse(\n",
        "      flip_angle=90 * np.pi / 180, duration=1e-3,\n",
        "      slice_thickness=slice_thickness, apodization=0.5, time_bw_product=4,\n",
        "      system=system, return_gz=True\n",
        "  )\n",
        "\n",
        "  # Define other gradients and ADC events\n",
        "  adc_duration_OG = 1e-3\n",
        "  adc_duration = ((adc_duration_OG / Nread)// system.grad_raster_time) * Nread * system.grad_raster_time\n",
        "\n",
        "  delay_adc_gradient = ((delay_adc_gradient_OG / 1)// system.grad_raster_time) * 1 * system.grad_raster_time\n",
        "\n",
        "  gx = pp.make_trapezoid(channel='x', flat_area=Nread / fov, flat_time=adc_duration, system=system)\n",
        "  gx_ = pp.make_trapezoid(channel='x', flat_area=-Nread / fov, flat_time=adc_duration, system=system)\n",
        "  adc = pp.make_adc(num_samples=Nread, duration=adc_duration, phase_offset=0 * np.pi / 180, delay=gx.rise_time + delay_adc_gradient, system=system)\n",
        "  gx_pre = pp.make_trapezoid(channel='x', area=-gx.area / 2, duration=1e-3, system=system)\n",
        "\n",
        "  gp_blip = pp.make_trapezoid(channel='y', area=1 / fov, duration=1e-3*blip_duration_factor, system=system)\n",
        "\n",
        "  seq_EPI.add_block(rf1)\n",
        "  gp = pp.make_trapezoid(channel='y', area=-Nphase//2 / fov, duration=1e-3, system=system)\n",
        "  seq_EPI.add_block(gx_pre, gp)\n",
        "\n",
        "  for ii in range(0, Nphase//2):\n",
        "      seq_EPI.add_block(gx,adc)\n",
        "      seq_EPI.add_block(gp_blip)\n",
        "      seq_EPI.add_block(gx_,adc)\n",
        "      seq_EPI.add_block(gp_blip)\n",
        "  aux_check_timing(seq_EPI)\n",
        "  seq_EPI.write(\"EPI.seq\")\n",
        "\n",
        "  # =====================\n",
        "  #    Simulate signal\n",
        "  # =====================\n",
        "  seq0_EPI = mr0.Sequence.import_file('EPI.seq')\n",
        "  graph_EPI = mr0.compute_graph(seq0_EPI, obj_p, 200, 1e-3)\n",
        "  signal_EPI = mr0.execute_graph(graph_EPI, seq0_EPI, obj_p)\n",
        "\n",
        "  # =====================\n",
        "  #  Image reconstruction\n",
        "  # =====================\n",
        "  kspace_EPI = torch.reshape((signal_EPI), (Nphase, Nread)).clone().t()\n",
        "  kspace_EPI[:,0::2] = torch.flip(kspace_EPI[:,0::2],[0] )[:,:]\n",
        "  spectrum_EPI = torch.fft.fftshift(kspace_EPI)\n",
        "  space_EPI = torch.fft.fft2(spectrum_EPI)\n",
        "  space_EPI = torch.fft.ifftshift(space_EPI)\n",
        "\n",
        "  return space_EPI\n"
      ],
      "metadata": {
        "id": "NS85iVbwLbbe"
      },
      "execution_count": 6,
      "outputs": []
    },
    {
      "cell_type": "markdown",
      "source": [
        "**6. Prepare digital phantom**"
      ],
      "metadata": {
        "id": "8fMJH8qZ8lr8"
      }
    },
    {
      "cell_type": "code",
      "source": [
        "sz = [Nread, Nread]\n",
        "phantom_inhomogeneity = mr0.VoxelGridPhantom.load_mat('numerical_brain_cropped.mat')\n",
        "phantom = mr0.VoxelGridPhantom.load_mat('numerical_brain_cropped.mat')\n",
        "phantom_inhomogeneity = phantom_inhomogeneity.interpolate(sz[0], sz[1], 1)\n",
        "phantom = phantom.interpolate(sz[0], sz[1], 1)\n",
        "phantom.B0[:] = 0\n",
        "phantom.B1[:] = 1\n",
        "# Convert Phantom into simulation data\n",
        "obj_p = phantom.build()\n",
        "\n",
        "obj_p_inhomogeneity = phantom_inhomogeneity.build()\n",
        "B0_inhomogeneity = obj_p_inhomogeneity.B0\n",
        "B1_inhomogeneity = obj_p_inhomogeneity.B1\n",
        "\n",
        "phantom.plot()"
      ],
      "metadata": {
        "id": "az0EpWTa8vRL"
      },
      "execution_count": null,
      "outputs": []
    },
    {
      "cell_type": "markdown",
      "source": [
        "**7. Effects of B0**"
      ],
      "metadata": {
        "id": "qjMkn-rKXnX9"
      }
    },
    {
      "cell_type": "code",
      "source": [
        "# Define a function that gets called when the slider value changes\n",
        "def update_B0f(change):\n",
        "  B0f = change['new']\n",
        "  plt.close()\n",
        "  plt.figure(figsize=[20,10])\n",
        "  EPI_b0f = EPI_generator_reconstruction(B0_factor = B0f)\n",
        "\n",
        "  plt.subplot(1, 3, 1)\n",
        "  plt.imshow(np.rot90(phantom_inhomogeneity.B0*B0f))\n",
        "  plt.title(r'$\\Delta$B0 x ' + str(B0f) + \" (Hz)\")\n",
        "  plt.axis(\"off\")\n",
        "  plt.colorbar(shrink = 0.5)\n",
        "\n",
        "  plt.subplot(1, 3, 2)\n",
        "  plt.imshow(np.rot90(abs(EPI_b0f)))\n",
        "  plt.title(\"EPI Magnitude\")\n",
        "  plt.axis(\"off\")\n",
        "  plt.colorbar(shrink = 0.5)\n",
        "\n",
        "  plt.subplot(1, 3, 3)\n",
        "  plt.imshow(np.rot90(np.angle(EPI_b0f)), vmin = -np.pi, vmax = np.pi)\n",
        "  plt.title(\"EPI Phase\")\n",
        "  plt.axis(\"off\")\n",
        "  plt.colorbar(shrink = 0.5)\n",
        "\n",
        "# Create the slider\n",
        "B0f_slider = widgets.FloatSlider(\n",
        "    value=0,\n",
        "    min=-10,\n",
        "    max=10,\n",
        "    step=0.1,\n",
        "    description='B0f:',\n",
        ")\n",
        "\n",
        "# Attach the function to the slider so that it updates on change\n",
        "B0f_slider.observe(update_B0f, names='value')\n",
        "\n",
        "# Display the slider\n",
        "display(B0f_slider)"
      ],
      "metadata": {
        "id": "UnoC-l3VLBKk"
      },
      "execution_count": null,
      "outputs": []
    }
  ]
}